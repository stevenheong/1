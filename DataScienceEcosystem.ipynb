{
 "cells": [
  {
   "cell_type": "markdown",
   "id": "c385ed8e-aeec-4669-a74e-deae6b33079f",
   "metadata": {},
   "source": [
    "# Data Science Tools and Ecosystem"
   ]
  },
  {
   "cell_type": "markdown",
   "id": "8c96569e-21b5-4071-b7fa-cd887ab7121a",
   "metadata": {},
   "source": [
    "**Objectives:**\n",
    "- List popular languages for Data Science\n",
    "- List various libraries in Data Science\n",
    "- Introduces the Jupyter Notebook and Jupyter Lab\n",
    "- Getting Started with Jupyter Notebooks"
   ]
  },
  {
   "cell_type": "markdown",
   "id": "4e92d4e7-9f99-4bab-80a3-3b91030667c2",
   "metadata": {},
   "source": [
    "In this notebook, Data Science Tools and Ecosystem are summarized."
   ]
  },
  {
   "cell_type": "markdown",
   "id": "fcc5021e-d9c8-45fb-af5b-f55853bcdcec",
   "metadata": {},
   "source": [
    "Some of the popular languages that Data Scientists use are:"
   ]
  },
  {
   "cell_type": "markdown",
   "id": "b58a8673-8777-4455-914d-98b646171175",
   "metadata": {},
   "source": [
    "1. Python\n",
    "2. SQL\n",
    "3. R"
   ]
  },
  {
   "cell_type": "markdown",
   "id": "de8329f5-51c5-477e-b0b1-035696ee4140",
   "metadata": {},
   "source": [
    "Some of the commonly used libraries used by Data Scientists include:"
   ]
  },
  {
   "cell_type": "markdown",
   "id": "92778870-a6fa-43e8-880d-592cf031b63d",
   "metadata": {},
   "source": [
    "1. Pandas\n",
    "2. Numpy\n",
    "3. Seaborn"
   ]
  },
  {
   "cell_type": "markdown",
   "id": "7bb3fa80-fb09-46df-b388-7a084a33453e",
   "metadata": {},
   "source": [
    "| Data Science Tools |\n",
    "| -------------|\n",
    "| Jupyter Notebook |\n",
    "| Jupyter Lab |\n",
    "| RStudio |"
   ]
  },
  {
   "cell_type": "markdown",
   "id": "5a0b8fb5-1ef0-43c6-a5e0-0cb5b1e9f39c",
   "metadata": {},
   "source": [
    "### Below are a few examples of evaluating arithmetic expressions in Python"
   ]
  },
  {
   "cell_type": "code",
   "execution_count": 5,
   "id": "edd34cf9-0262-4c61-aac8-89b96dc4c225",
   "metadata": {
    "tags": []
   },
   "outputs": [
    {
     "data": {
      "text/plain": [
       "7"
      ]
     },
     "execution_count": 5,
     "metadata": {},
     "output_type": "execute_result"
    }
   ],
   "source": [
    ">>> a = 5\n",
    ">>> b = 2\n",
    "\n",
    ">>> a+b"
   ]
  },
  {
   "cell_type": "code",
   "execution_count": 9,
   "id": "cd3a560a-8f3e-4160-b420-f4bb4db423cc",
   "metadata": {
    "tags": []
   },
   "outputs": [
    {
     "data": {
      "text/plain": [
       "17"
      ]
     },
     "execution_count": 9,
     "metadata": {},
     "output_type": "execute_result"
    }
   ],
   "source": [
    "#This a simple arithmetic expression to mutiply then add integers\n",
    "(3*4)+5"
   ]
  },
  {
   "cell_type": "code",
   "execution_count": 10,
   "id": "e593803a-b846-4083-a58a-12de6a151dbb",
   "metadata": {
    "tags": []
   },
   "outputs": [
    {
     "data": {
      "text/plain": [
       "3.3333333333333335"
      ]
     },
     "execution_count": 10,
     "metadata": {},
     "output_type": "execute_result"
    }
   ],
   "source": [
    "#This will convert 200 minutes to hours by diving by 60.\n",
    "200/60\n"
   ]
  },
  {
   "cell_type": "markdown",
   "id": "fb652e94-9e62-422d-be5b-616d6a091434",
   "metadata": {},
   "source": [
    "## Author\n",
    "Heong Kai Shing"
   ]
  },
  {
   "cell_type": "code",
   "execution_count": null,
   "id": "f8309d10-93f5-4670-8eb5-c4a12a420839",
   "metadata": {},
   "outputs": [],
   "source": []
  }
 ],
 "metadata": {
  "kernelspec": {
   "display_name": "Python",
   "language": "python",
   "name": "conda-env-python-py"
  },
  "language_info": {
   "codemirror_mode": {
    "name": "ipython",
    "version": 3
   },
   "file_extension": ".py",
   "mimetype": "text/x-python",
   "name": "python",
   "nbconvert_exporter": "python",
   "pygments_lexer": "ipython3",
   "version": "3.7.12"
  }
 },
 "nbformat": 4,
 "nbformat_minor": 5
}
